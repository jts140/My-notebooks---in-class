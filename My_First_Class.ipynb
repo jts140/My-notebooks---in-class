{
  "nbformat": 4,
  "nbformat_minor": 0,
  "metadata": {
    "colab": {
      "name": "My First Class",
      "provenance": [],
      "authorship_tag": "ABX9TyPaKI/PF36GjULyeq0I6Je0",
      "include_colab_link": true
    },
    "kernelspec": {
      "name": "python3",
      "display_name": "Python 3"
    }
  },
  "cells": [
    {
      "cell_type": "markdown",
      "metadata": {
        "id": "view-in-github",
        "colab_type": "text"
      },
      "source": [
        "<a href=\"https://colab.research.google.com/github/jts140/My-notebooks---in-class/blob/main/My_First_Class.ipynb\" target=\"_parent\"><img src=\"https://colab.research.google.com/assets/colab-badge.svg\" alt=\"Open In Colab\"/></a>"
      ]
    },
    {
      "cell_type": "code",
      "metadata": {
        "colab": {
          "base_uri": "https://localhost:8080/"
        },
        "id": "3FzlaTytzEPw",
        "outputId": "fd7fd960-ccdf-445f-fc98-63527cd9b144"
      },
      "source": [
        "# This is an example python code cell\r\n",
        "# Run it and see the output below\r\n",
        "# These lines are \"comments\", starting with the #\r\n",
        "# Don't be confused that # means something different in .md and .py files.\r\n",
        "\r\n",
        "print(\"HELLO WORLD!\")\r\n",
        "\r\n",
        "x = 2 + 2\r\n",
        "print(x)"
      ],
      "execution_count": 1,
      "outputs": [
        {
          "output_type": "stream",
          "text": [
            "HELLO WORLD!\n",
            "4\n"
          ],
          "name": "stdout"
        }
      ]
    },
    {
      "cell_type": "markdown",
      "metadata": {
        "id": "GYIccf1GzwJp"
      },
      "source": [
        "Example of description"
      ]
    }
  ]
}